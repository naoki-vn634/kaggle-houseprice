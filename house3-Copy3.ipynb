{
 "cells": [
  {
   "cell_type": "markdown",
   "metadata": {},
   "source": [
    "# ライブラリのインポート"
   ]
  },
  {
   "cell_type": "code",
   "execution_count": 89,
   "metadata": {},
   "outputs": [],
   "source": [
    "import numpy as np\n",
    "import pandas as pd\n",
    "pd.set_option(\"display.max_rows\",100)\n",
    "import matplotlib.pyplot as plt\n",
    "%matplotlib inline"
   ]
  },
  {
   "cell_type": "markdown",
   "metadata": {},
   "source": [
    "# データのダウンロード"
   ]
  },
  {
   "cell_type": "code",
   "execution_count": 90,
   "metadata": {
    "scrolled": true
   },
   "outputs": [],
   "source": [
    "#trainデータとtestデータのダウンロード\n",
    "train=pd.read_csv(\"train.csv\")\n",
    "test=pd.read_csv(\"test.csv\")"
   ]
  },
  {
   "cell_type": "markdown",
   "metadata": {},
   "source": [
    "# データの観察"
   ]
  },
  {
   "cell_type": "code",
   "execution_count": 91,
   "metadata": {},
   "outputs": [
    {
     "data": {
      "text/html": [
       "<div>\n",
       "<style scoped>\n",
       "    .dataframe tbody tr th:only-of-type {\n",
       "        vertical-align: middle;\n",
       "    }\n",
       "\n",
       "    .dataframe tbody tr th {\n",
       "        vertical-align: top;\n",
       "    }\n",
       "\n",
       "    .dataframe thead th {\n",
       "        text-align: right;\n",
       "    }\n",
       "</style>\n",
       "<table border=\"1\" class=\"dataframe\">\n",
       "  <thead>\n",
       "    <tr style=\"text-align: right;\">\n",
       "      <th></th>\n",
       "      <th>Id</th>\n",
       "      <th>MSSubClass</th>\n",
       "      <th>MSZoning</th>\n",
       "      <th>LotFrontage</th>\n",
       "      <th>LotArea</th>\n",
       "      <th>Street</th>\n",
       "      <th>Alley</th>\n",
       "      <th>LotShape</th>\n",
       "      <th>LandContour</th>\n",
       "      <th>Utilities</th>\n",
       "      <th>...</th>\n",
       "      <th>PoolArea</th>\n",
       "      <th>PoolQC</th>\n",
       "      <th>Fence</th>\n",
       "      <th>MiscFeature</th>\n",
       "      <th>MiscVal</th>\n",
       "      <th>MoSold</th>\n",
       "      <th>YrSold</th>\n",
       "      <th>SaleType</th>\n",
       "      <th>SaleCondition</th>\n",
       "      <th>SalePrice</th>\n",
       "    </tr>\n",
       "  </thead>\n",
       "  <tbody>\n",
       "    <tr>\n",
       "      <th>0</th>\n",
       "      <td>1</td>\n",
       "      <td>60</td>\n",
       "      <td>RL</td>\n",
       "      <td>65.0</td>\n",
       "      <td>8450</td>\n",
       "      <td>Pave</td>\n",
       "      <td>NaN</td>\n",
       "      <td>Reg</td>\n",
       "      <td>Lvl</td>\n",
       "      <td>AllPub</td>\n",
       "      <td>...</td>\n",
       "      <td>0</td>\n",
       "      <td>NaN</td>\n",
       "      <td>NaN</td>\n",
       "      <td>NaN</td>\n",
       "      <td>0</td>\n",
       "      <td>2</td>\n",
       "      <td>2008</td>\n",
       "      <td>WD</td>\n",
       "      <td>Normal</td>\n",
       "      <td>208500</td>\n",
       "    </tr>\n",
       "    <tr>\n",
       "      <th>1</th>\n",
       "      <td>2</td>\n",
       "      <td>20</td>\n",
       "      <td>RL</td>\n",
       "      <td>80.0</td>\n",
       "      <td>9600</td>\n",
       "      <td>Pave</td>\n",
       "      <td>NaN</td>\n",
       "      <td>Reg</td>\n",
       "      <td>Lvl</td>\n",
       "      <td>AllPub</td>\n",
       "      <td>...</td>\n",
       "      <td>0</td>\n",
       "      <td>NaN</td>\n",
       "      <td>NaN</td>\n",
       "      <td>NaN</td>\n",
       "      <td>0</td>\n",
       "      <td>5</td>\n",
       "      <td>2007</td>\n",
       "      <td>WD</td>\n",
       "      <td>Normal</td>\n",
       "      <td>181500</td>\n",
       "    </tr>\n",
       "    <tr>\n",
       "      <th>2</th>\n",
       "      <td>3</td>\n",
       "      <td>60</td>\n",
       "      <td>RL</td>\n",
       "      <td>68.0</td>\n",
       "      <td>11250</td>\n",
       "      <td>Pave</td>\n",
       "      <td>NaN</td>\n",
       "      <td>IR1</td>\n",
       "      <td>Lvl</td>\n",
       "      <td>AllPub</td>\n",
       "      <td>...</td>\n",
       "      <td>0</td>\n",
       "      <td>NaN</td>\n",
       "      <td>NaN</td>\n",
       "      <td>NaN</td>\n",
       "      <td>0</td>\n",
       "      <td>9</td>\n",
       "      <td>2008</td>\n",
       "      <td>WD</td>\n",
       "      <td>Normal</td>\n",
       "      <td>223500</td>\n",
       "    </tr>\n",
       "    <tr>\n",
       "      <th>3</th>\n",
       "      <td>4</td>\n",
       "      <td>70</td>\n",
       "      <td>RL</td>\n",
       "      <td>60.0</td>\n",
       "      <td>9550</td>\n",
       "      <td>Pave</td>\n",
       "      <td>NaN</td>\n",
       "      <td>IR1</td>\n",
       "      <td>Lvl</td>\n",
       "      <td>AllPub</td>\n",
       "      <td>...</td>\n",
       "      <td>0</td>\n",
       "      <td>NaN</td>\n",
       "      <td>NaN</td>\n",
       "      <td>NaN</td>\n",
       "      <td>0</td>\n",
       "      <td>2</td>\n",
       "      <td>2006</td>\n",
       "      <td>WD</td>\n",
       "      <td>Abnorml</td>\n",
       "      <td>140000</td>\n",
       "    </tr>\n",
       "    <tr>\n",
       "      <th>4</th>\n",
       "      <td>5</td>\n",
       "      <td>60</td>\n",
       "      <td>RL</td>\n",
       "      <td>84.0</td>\n",
       "      <td>14260</td>\n",
       "      <td>Pave</td>\n",
       "      <td>NaN</td>\n",
       "      <td>IR1</td>\n",
       "      <td>Lvl</td>\n",
       "      <td>AllPub</td>\n",
       "      <td>...</td>\n",
       "      <td>0</td>\n",
       "      <td>NaN</td>\n",
       "      <td>NaN</td>\n",
       "      <td>NaN</td>\n",
       "      <td>0</td>\n",
       "      <td>12</td>\n",
       "      <td>2008</td>\n",
       "      <td>WD</td>\n",
       "      <td>Normal</td>\n",
       "      <td>250000</td>\n",
       "    </tr>\n",
       "  </tbody>\n",
       "</table>\n",
       "<p>5 rows × 81 columns</p>\n",
       "</div>"
      ],
      "text/plain": [
       "   Id  MSSubClass MSZoning  LotFrontage  LotArea Street Alley LotShape  \\\n",
       "0   1          60       RL         65.0     8450   Pave   NaN      Reg   \n",
       "1   2          20       RL         80.0     9600   Pave   NaN      Reg   \n",
       "2   3          60       RL         68.0    11250   Pave   NaN      IR1   \n",
       "3   4          70       RL         60.0     9550   Pave   NaN      IR1   \n",
       "4   5          60       RL         84.0    14260   Pave   NaN      IR1   \n",
       "\n",
       "  LandContour Utilities    ...     PoolArea PoolQC Fence MiscFeature MiscVal  \\\n",
       "0         Lvl    AllPub    ...            0    NaN   NaN         NaN       0   \n",
       "1         Lvl    AllPub    ...            0    NaN   NaN         NaN       0   \n",
       "2         Lvl    AllPub    ...            0    NaN   NaN         NaN       0   \n",
       "3         Lvl    AllPub    ...            0    NaN   NaN         NaN       0   \n",
       "4         Lvl    AllPub    ...            0    NaN   NaN         NaN       0   \n",
       "\n",
       "  MoSold YrSold  SaleType  SaleCondition  SalePrice  \n",
       "0      2   2008        WD         Normal     208500  \n",
       "1      5   2007        WD         Normal     181500  \n",
       "2      9   2008        WD         Normal     223500  \n",
       "3      2   2006        WD        Abnorml     140000  \n",
       "4     12   2008        WD         Normal     250000  \n",
       "\n",
       "[5 rows x 81 columns]"
      ]
     },
     "execution_count": 91,
     "metadata": {},
     "output_type": "execute_result"
    }
   ],
   "source": [
    "train.head()"
   ]
  },
  {
   "cell_type": "code",
   "execution_count": 92,
   "metadata": {},
   "outputs": [
    {
     "data": {
      "text/html": [
       "<div>\n",
       "<style scoped>\n",
       "    .dataframe tbody tr th:only-of-type {\n",
       "        vertical-align: middle;\n",
       "    }\n",
       "\n",
       "    .dataframe tbody tr th {\n",
       "        vertical-align: top;\n",
       "    }\n",
       "\n",
       "    .dataframe thead th {\n",
       "        text-align: right;\n",
       "    }\n",
       "</style>\n",
       "<table border=\"1\" class=\"dataframe\">\n",
       "  <thead>\n",
       "    <tr style=\"text-align: right;\">\n",
       "      <th></th>\n",
       "      <th>Id</th>\n",
       "      <th>MSSubClass</th>\n",
       "      <th>MSZoning</th>\n",
       "      <th>LotFrontage</th>\n",
       "      <th>LotArea</th>\n",
       "      <th>Street</th>\n",
       "      <th>Alley</th>\n",
       "      <th>LotShape</th>\n",
       "      <th>LandContour</th>\n",
       "      <th>Utilities</th>\n",
       "      <th>...</th>\n",
       "      <th>ScreenPorch</th>\n",
       "      <th>PoolArea</th>\n",
       "      <th>PoolQC</th>\n",
       "      <th>Fence</th>\n",
       "      <th>MiscFeature</th>\n",
       "      <th>MiscVal</th>\n",
       "      <th>MoSold</th>\n",
       "      <th>YrSold</th>\n",
       "      <th>SaleType</th>\n",
       "      <th>SaleCondition</th>\n",
       "    </tr>\n",
       "  </thead>\n",
       "  <tbody>\n",
       "    <tr>\n",
       "      <th>0</th>\n",
       "      <td>1461</td>\n",
       "      <td>20</td>\n",
       "      <td>RH</td>\n",
       "      <td>80.0</td>\n",
       "      <td>11622</td>\n",
       "      <td>Pave</td>\n",
       "      <td>NaN</td>\n",
       "      <td>Reg</td>\n",
       "      <td>Lvl</td>\n",
       "      <td>AllPub</td>\n",
       "      <td>...</td>\n",
       "      <td>120</td>\n",
       "      <td>0</td>\n",
       "      <td>NaN</td>\n",
       "      <td>MnPrv</td>\n",
       "      <td>NaN</td>\n",
       "      <td>0</td>\n",
       "      <td>6</td>\n",
       "      <td>2010</td>\n",
       "      <td>WD</td>\n",
       "      <td>Normal</td>\n",
       "    </tr>\n",
       "    <tr>\n",
       "      <th>1</th>\n",
       "      <td>1462</td>\n",
       "      <td>20</td>\n",
       "      <td>RL</td>\n",
       "      <td>81.0</td>\n",
       "      <td>14267</td>\n",
       "      <td>Pave</td>\n",
       "      <td>NaN</td>\n",
       "      <td>IR1</td>\n",
       "      <td>Lvl</td>\n",
       "      <td>AllPub</td>\n",
       "      <td>...</td>\n",
       "      <td>0</td>\n",
       "      <td>0</td>\n",
       "      <td>NaN</td>\n",
       "      <td>NaN</td>\n",
       "      <td>Gar2</td>\n",
       "      <td>12500</td>\n",
       "      <td>6</td>\n",
       "      <td>2010</td>\n",
       "      <td>WD</td>\n",
       "      <td>Normal</td>\n",
       "    </tr>\n",
       "    <tr>\n",
       "      <th>2</th>\n",
       "      <td>1463</td>\n",
       "      <td>60</td>\n",
       "      <td>RL</td>\n",
       "      <td>74.0</td>\n",
       "      <td>13830</td>\n",
       "      <td>Pave</td>\n",
       "      <td>NaN</td>\n",
       "      <td>IR1</td>\n",
       "      <td>Lvl</td>\n",
       "      <td>AllPub</td>\n",
       "      <td>...</td>\n",
       "      <td>0</td>\n",
       "      <td>0</td>\n",
       "      <td>NaN</td>\n",
       "      <td>MnPrv</td>\n",
       "      <td>NaN</td>\n",
       "      <td>0</td>\n",
       "      <td>3</td>\n",
       "      <td>2010</td>\n",
       "      <td>WD</td>\n",
       "      <td>Normal</td>\n",
       "    </tr>\n",
       "    <tr>\n",
       "      <th>3</th>\n",
       "      <td>1464</td>\n",
       "      <td>60</td>\n",
       "      <td>RL</td>\n",
       "      <td>78.0</td>\n",
       "      <td>9978</td>\n",
       "      <td>Pave</td>\n",
       "      <td>NaN</td>\n",
       "      <td>IR1</td>\n",
       "      <td>Lvl</td>\n",
       "      <td>AllPub</td>\n",
       "      <td>...</td>\n",
       "      <td>0</td>\n",
       "      <td>0</td>\n",
       "      <td>NaN</td>\n",
       "      <td>NaN</td>\n",
       "      <td>NaN</td>\n",
       "      <td>0</td>\n",
       "      <td>6</td>\n",
       "      <td>2010</td>\n",
       "      <td>WD</td>\n",
       "      <td>Normal</td>\n",
       "    </tr>\n",
       "    <tr>\n",
       "      <th>4</th>\n",
       "      <td>1465</td>\n",
       "      <td>120</td>\n",
       "      <td>RL</td>\n",
       "      <td>43.0</td>\n",
       "      <td>5005</td>\n",
       "      <td>Pave</td>\n",
       "      <td>NaN</td>\n",
       "      <td>IR1</td>\n",
       "      <td>HLS</td>\n",
       "      <td>AllPub</td>\n",
       "      <td>...</td>\n",
       "      <td>144</td>\n",
       "      <td>0</td>\n",
       "      <td>NaN</td>\n",
       "      <td>NaN</td>\n",
       "      <td>NaN</td>\n",
       "      <td>0</td>\n",
       "      <td>1</td>\n",
       "      <td>2010</td>\n",
       "      <td>WD</td>\n",
       "      <td>Normal</td>\n",
       "    </tr>\n",
       "  </tbody>\n",
       "</table>\n",
       "<p>5 rows × 80 columns</p>\n",
       "</div>"
      ],
      "text/plain": [
       "     Id  MSSubClass MSZoning  LotFrontage  LotArea Street Alley LotShape  \\\n",
       "0  1461          20       RH         80.0    11622   Pave   NaN      Reg   \n",
       "1  1462          20       RL         81.0    14267   Pave   NaN      IR1   \n",
       "2  1463          60       RL         74.0    13830   Pave   NaN      IR1   \n",
       "3  1464          60       RL         78.0     9978   Pave   NaN      IR1   \n",
       "4  1465         120       RL         43.0     5005   Pave   NaN      IR1   \n",
       "\n",
       "  LandContour Utilities      ...       ScreenPorch PoolArea PoolQC  Fence  \\\n",
       "0         Lvl    AllPub      ...               120        0    NaN  MnPrv   \n",
       "1         Lvl    AllPub      ...                 0        0    NaN    NaN   \n",
       "2         Lvl    AllPub      ...                 0        0    NaN  MnPrv   \n",
       "3         Lvl    AllPub      ...                 0        0    NaN    NaN   \n",
       "4         HLS    AllPub      ...               144        0    NaN    NaN   \n",
       "\n",
       "  MiscFeature MiscVal MoSold  YrSold  SaleType  SaleCondition  \n",
       "0         NaN       0      6    2010        WD         Normal  \n",
       "1        Gar2   12500      6    2010        WD         Normal  \n",
       "2         NaN       0      3    2010        WD         Normal  \n",
       "3         NaN       0      6    2010        WD         Normal  \n",
       "4         NaN       0      1    2010        WD         Normal  \n",
       "\n",
       "[5 rows x 80 columns]"
      ]
     },
     "execution_count": 92,
     "metadata": {},
     "output_type": "execute_result"
    }
   ],
   "source": [
    "test.head()"
   ]
  },
  {
   "cell_type": "code",
   "execution_count": 93,
   "metadata": {},
   "outputs": [
    {
     "name": "stdout",
     "output_type": "stream",
     "text": [
      "(1460, 81)\n",
      "(1459, 80)\n"
     ]
    }
   ],
   "source": [
    "#データの大きさの確認\n",
    "print(train.shape)\n",
    "print(test.shape)"
   ]
  },
  {
   "cell_type": "code",
   "execution_count": 94,
   "metadata": {},
   "outputs": [
    {
     "data": {
      "text/plain": [
       "Id                 int64\n",
       "MSSubClass         int64\n",
       "MSZoning          object\n",
       "LotFrontage      float64\n",
       "LotArea            int64\n",
       "Street            object\n",
       "Alley             object\n",
       "LotShape          object\n",
       "LandContour       object\n",
       "Utilities         object\n",
       "LotConfig         object\n",
       "LandSlope         object\n",
       "Neighborhood      object\n",
       "Condition1        object\n",
       "Condition2        object\n",
       "BldgType          object\n",
       "HouseStyle        object\n",
       "OverallQual        int64\n",
       "OverallCond        int64\n",
       "YearBuilt          int64\n",
       "YearRemodAdd       int64\n",
       "RoofStyle         object\n",
       "RoofMatl          object\n",
       "Exterior1st       object\n",
       "Exterior2nd       object\n",
       "MasVnrType        object\n",
       "MasVnrArea       float64\n",
       "ExterQual         object\n",
       "ExterCond         object\n",
       "Foundation        object\n",
       "BsmtQual          object\n",
       "BsmtCond          object\n",
       "BsmtExposure      object\n",
       "BsmtFinType1      object\n",
       "BsmtFinSF1         int64\n",
       "BsmtFinType2      object\n",
       "BsmtFinSF2         int64\n",
       "BsmtUnfSF          int64\n",
       "TotalBsmtSF        int64\n",
       "Heating           object\n",
       "HeatingQC         object\n",
       "CentralAir        object\n",
       "Electrical        object\n",
       "1stFlrSF           int64\n",
       "2ndFlrSF           int64\n",
       "LowQualFinSF       int64\n",
       "GrLivArea          int64\n",
       "BsmtFullBath       int64\n",
       "BsmtHalfBath       int64\n",
       "FullBath           int64\n",
       "HalfBath           int64\n",
       "BedroomAbvGr       int64\n",
       "KitchenAbvGr       int64\n",
       "KitchenQual       object\n",
       "TotRmsAbvGrd       int64\n",
       "Functional        object\n",
       "Fireplaces         int64\n",
       "FireplaceQu       object\n",
       "GarageType        object\n",
       "GarageYrBlt      float64\n",
       "GarageFinish      object\n",
       "GarageCars         int64\n",
       "GarageArea         int64\n",
       "GarageQual        object\n",
       "GarageCond        object\n",
       "PavedDrive        object\n",
       "WoodDeckSF         int64\n",
       "OpenPorchSF        int64\n",
       "EnclosedPorch      int64\n",
       "3SsnPorch          int64\n",
       "ScreenPorch        int64\n",
       "PoolArea           int64\n",
       "PoolQC            object\n",
       "Fence             object\n",
       "MiscFeature       object\n",
       "MiscVal            int64\n",
       "MoSold             int64\n",
       "YrSold             int64\n",
       "SaleType          object\n",
       "SaleCondition     object\n",
       "SalePrice          int64\n",
       "dtype: object"
      ]
     },
     "execution_count": 94,
     "metadata": {},
     "output_type": "execute_result"
    }
   ],
   "source": [
    "#データの種類の確認\n",
    "train.dtypes"
   ]
  },
  {
   "cell_type": "markdown",
   "metadata": {},
   "source": [
    "object型の変数はこのままでは分析にかけることができないので後にmappingする必要があります。"
   ]
  },
  {
   "cell_type": "markdown",
   "metadata": {},
   "source": [
    "## 目的関数の観察\n"
   ]
  },
  {
   "cell_type": "code",
   "execution_count": 95,
   "metadata": {},
   "outputs": [
    {
     "name": "stderr",
     "output_type": "stream",
     "text": [
      "/Users/matsunaganaoki/.pyenv/versions/anaconda3-5.2.0/lib/python3.6/site-packages/matplotlib/axes/_axes.py:6462: UserWarning: The 'normed' kwarg is deprecated, and has been replaced by the 'density' kwarg.\n",
      "  warnings.warn(\"The 'normed' kwarg is deprecated, and has been \"\n"
     ]
    },
    {
     "data": {
      "image/png": "[encoded data removed]",
      "text/plain": [
       "<Figure size 432x288 with 1 Axes>"
      ]
     },
     "metadata": {},
     "output_type": "display_data"
    }
   ],
   "source": [
    "#目的関数の観察\n",
    "import seaborn as sns\n",
    "y_data=train[\"SalePrice\"]\n",
    "ax=sns.distplot(y_data)\n",
    "plt.show()"
   ]
  },
  {
   "cell_type": "markdown",
   "metadata": {},
   "source": [
    "分析しやすいように対数をとって正規分布に変換する"
   ]
  },
  {
   "cell_type": "code",
   "execution_count": 96,
   "metadata": {},
   "outputs": [
    {
     "name": "stderr",
     "output_type": "stream",
     "text": [
      "/Users/matsunaganaoki/.pyenv/versions/anaconda3-5.2.0/lib/python3.6/site-packages/matplotlib/axes/_axes.py:6462: UserWarning: The 'normed' kwarg is deprecated, and has been replaced by the 'density' kwarg.\n",
      "  warnings.warn(\"The 'normed' kwarg is deprecated, and has been \"\n"
     ]
    },
    {
     "data": {
      "image/png": "[encoded data removed]",
      "text/plain": [
       "<Figure size 432x288 with 1 Axes>"
      ]
     },
     "metadata": {},
     "output_type": "display_data"
    }
   ],
   "source": [
    "#正規分布に変換\n",
    "y_data=np.log(y_data)\n",
    "ax=sns.distplot(y_data)\n",
    "plt.show()"
   ]
  },
  {
   "cell_type": "code",
   "execution_count": 97,
   "metadata": {},
   "outputs": [
    {
     "data": {
      "text/plain": [
       "count      1460.000000\n",
       "mean     180921.195890\n",
       "std       79442.502883\n",
       "min       34900.000000\n",
       "25%      129975.000000\n",
       "50%      163000.000000\n",
       "75%      214000.000000\n",
       "max      755000.000000\n",
       "Name: SalePrice, dtype: float64"
      ]
     },
     "execution_count": 97,
     "metadata": {},
     "output_type": "execute_result"
    }
   ],
   "source": [
    "train[\"SalePrice\"].describe()"
   ]
  },
  {
   "cell_type": "markdown",
   "metadata": {},
   "source": [
    "## 欠損値の補完"
   ]
  },
  {
   "cell_type": "code",
   "execution_count": 98,
   "metadata": {},
   "outputs": [
    {
     "name": "stdout",
     "output_type": "stream",
     "text": [
      "LotFrontage      259\n",
      "Alley           1369\n",
      "MasVnrType         8\n",
      "MasVnrArea         8\n",
      "BsmtQual          37\n",
      "BsmtCond          37\n",
      "BsmtExposure      38\n",
      "BsmtFinType1      37\n",
      "BsmtFinType2      38\n",
      "Electrical         1\n",
      "FireplaceQu      690\n",
      "GarageType        81\n",
      "GarageYrBlt       81\n",
      "GarageFinish      81\n",
      "GarageQual        81\n",
      "GarageCond        81\n",
      "PoolQC          1453\n",
      "Fence           1179\n",
      "MiscFeature     1406\n",
      "dtype: int64\n"
     ]
    }
   ],
   "source": [
    "#trainデータの欠損値の確認\n",
    "print(train.isnull().sum()[train.isnull().sum()>0])"
   ]
  },
  {
   "cell_type": "code",
   "execution_count": 99,
   "metadata": {},
   "outputs": [
    {
     "name": "stdout",
     "output_type": "stream",
     "text": [
      "MSZoning           4\n",
      "LotFrontage      227\n",
      "Alley           1352\n",
      "Utilities          2\n",
      "Exterior1st        1\n",
      "Exterior2nd        1\n",
      "MasVnrType        16\n",
      "MasVnrArea        15\n",
      "BsmtQual          44\n",
      "BsmtCond          45\n",
      "BsmtExposure      44\n",
      "BsmtFinType1      42\n",
      "BsmtFinSF1         1\n",
      "BsmtFinType2      42\n",
      "BsmtFinSF2         1\n",
      "BsmtUnfSF          1\n",
      "TotalBsmtSF        1\n",
      "BsmtFullBath       2\n",
      "BsmtHalfBath       2\n",
      "KitchenQual        1\n",
      "Functional         2\n",
      "FireplaceQu      730\n",
      "GarageType        76\n",
      "GarageYrBlt       78\n",
      "GarageFinish      78\n",
      "GarageCars         1\n",
      "GarageArea         1\n",
      "GarageQual        78\n",
      "GarageCond        78\n",
      "PoolQC          1456\n",
      "Fence           1169\n",
      "MiscFeature     1408\n",
      "SaleType           1\n",
      "dtype: int64\n"
     ]
    }
   ],
   "source": [
    "#testデータの欠損値の確認\n",
    "print(test.isnull().sum()[test.isnull().sum()>0])"
   ]
  },
  {
   "cell_type": "code",
   "execution_count": 100,
   "metadata": {},
   "outputs": [],
   "source": [
    "#欠損値の多い項目の削除\n",
    "#Alleyの削除\n",
    "train=train.drop(\"Alley\",axis=1)\n",
    "test=test.drop(\"Alley\",axis=1)\n",
    "#PoolQCの削除\n",
    "train=train.drop(\"PoolQC\",axis=1)\n",
    "test=test.drop(\"PoolQC\",axis=1)\n",
    "#Fenceの削除\n",
    "train=train.drop(\"Fence\",axis=1)\n",
    "test=test.drop(\"Fence\",axis=1)\n",
    "#MiscFeatureの削除\n",
    "train=train.drop(\"MiscFeature\",axis=1)\n",
    "test=test.drop(\"MiscFeature\",axis=1)\n",
    "#FireplaceQuの削除\n",
    "train=train.drop(\"FireplaceQu\",axis=1)\n",
    "test=test.drop(\"FireplaceQu\",axis=1)\n",
    "#種類の少ない項目の削除\n",
    "#Utilitiesの削除\n",
    "train=train.drop(\"Utilities\",axis=1)\n",
    "test=test.drop(\"Utilities\",axis=1)"
   ]
  },
  {
   "cell_type": "code",
   "execution_count": 101,
   "metadata": {},
   "outputs": [],
   "source": [
    "#欠損値の補完\n",
    "#BasementとGarageの欠損値は存在しない場合が考えられるためNoneでReplace\n",
    "train[\"BsmtQual\"].fillna('None', inplace=True)\n",
    "test[\"BsmtQual\"].fillna(0, inplace=True)\n",
    "train[\"BsmtCond\"].fillna('None', inplace=True)\n",
    "test[\"BsmtCond\"].fillna(0, inplace=True)\n",
    "train[\"BsmtExposure\"].fillna('None', inplace=True)\n",
    "test[\"BsmtExposure\"].fillna(0, inplace=True)\n",
    "train[\"BsmtFinType1\"].fillna('None', inplace=True)\n",
    "test[\"BsmtFinType1\"].fillna(0, inplace=True)\n",
    "train[\"BsmtFinSF1\"].fillna('None', inplace=True)\n",
    "test[\"BsmtFinSF1\"].fillna(0, inplace=True)\n",
    "train[\"BsmtFinType2\"].fillna('None', inplace=True)\n",
    "test[\"BsmtFinType2\"].fillna(0, inplace=True)\n",
    "train[\"BsmtFinSF2\"].fillna('None', inplace=True)\n",
    "test[\"BsmtFinSF2\"].fillna(0, inplace=True)\n",
    "train[\"BsmtUnfSF\"].fillna('None', inplace=True)\n",
    "test[\"BsmtUnfSF\"].fillna(0, inplace=True)\n",
    "train[\"TotalBsmtSF\"].fillna('None', inplace=True)\n",
    "test[\"TotalBsmtSF\"].fillna(test[\"TotalBsmtSF\"].mean(), inplace=True)\n",
    "train[\"GarageType\"].fillna('None', inplace=True)\n",
    "test[\"GarageType\"].fillna(0, inplace=True)\n",
    "#GarageYrBltの欠損値を平均値補完\n",
    "train[\"GarageYrBlt\"].fillna(train[\"GarageYrBlt\"].mean(), inplace=True)\n",
    "test[\"GarageYrBlt\"].fillna(test[\"GarageYrBlt\"].mean(), inplace=True)\n",
    "train[\"GarageFinish\"].fillna('None', inplace=True)\n",
    "test[\"GarageFinish\"].fillna(0, inplace=True)\n",
    "train[\"GarageCars\"].fillna('None', inplace=True)\n",
    "test[\"GarageCars\"].fillna(test[\"GarageCars\"].mean(), inplace=True)\n",
    "train[\"GarageArea\"].fillna('None', inplace=True)\n",
    "test[\"GarageArea\"].fillna(test[\"GarageArea\"].mean(), inplace=True)\n",
    "train[\"GarageQual\"].fillna('None', inplace=True)\n",
    "test[\"GarageQual\"].fillna(0, inplace=True)\n",
    "train[\"GarageCond\"].fillna('None', inplace=True)\n",
    "test[\"GarageCond\"].fillna(0, inplace=True)\n",
    "train[\"MasVnrType\"].fillna(\"None\",inplace=True)\n",
    "test[\"MasVnrType\"].fillna(0,inplace=True)\n",
    "train[\"MasVnrArea\"].fillna(0,inplace=True)\n",
    "test[\"MasVnrArea\"].fillna(0,inplace=True)\n",
    "test[\"Exterior1st\"].fillna(0,inplace=True)\n",
    "test[\"Exterior2nd\"].fillna(0,inplace=True)\n",
    "test[\"BsmtFullBath\"].fillna(0,inplace=True)\n",
    "test[\"BsmtHalfBath\"].fillna(0,inplace=True)\n",
    "test[\"KitchenQual\"].fillna(0,inplace=True)\n",
    "test[\"Functional\"].fillna(0,inplace=True)\n",
    "test[\"SaleType\"].fillna(0,inplace=True)\n",
    "#Electricalは最頻要素で補完\n",
    "train[\"Electrical\"].fillna('SBrkr',inplace=True)\n",
    "test[\"MSZoning\"].fillna('RL',inplace=True)\n",
    "#Neighborhoodでグループし平均をとって補完\n",
    "f = lambda x: x.fillna(x.mean())\n",
    "train[\"LotFrontage\"] = train.groupby(\"Neighborhood\")[\"LotFrontage\"].transform(f)\n",
    "test[\"LotFrontage\"] = test.groupby(\"Neighborhood\")[\"LotFrontage\"].transform(f)"
   ]
  },
  {
   "cell_type": "code",
   "execution_count": 102,
   "metadata": {},
   "outputs": [
    {
     "name": "stdout",
     "output_type": "stream",
     "text": [
      "Id             False\n",
      "MSSubClass     False\n",
      "MSZoning       False\n",
      "LotFrontage    False\n",
      "LotArea        False\n",
      "dtype: bool\n",
      "\n",
      "\n",
      "Id             False\n",
      "MSSubClass     False\n",
      "MSZoning       False\n",
      "LotFrontage    False\n",
      "LotArea        False\n",
      "dtype: bool\n"
     ]
    }
   ],
   "source": [
    "#欠損値の確認\n",
    "print(train.isnull().any().head())\n",
    "print(\"\\n\")\n",
    "print(test.isnull().any().head())"
   ]
  },
  {
   "cell_type": "markdown",
   "metadata": {},
   "source": [
    "# データの前処理"
   ]
  },
  {
   "cell_type": "markdown",
   "metadata": {},
   "source": [
    "## FeatureEngineering"
   ]
  },
  {
   "cell_type": "markdown",
   "metadata": {},
   "source": [
    "統合するとわかりやすくなるデータなどを統合して新しいcolumnsを作成する"
   ]
  },
  {
   "cell_type": "code",
   "execution_count": 103,
   "metadata": {},
   "outputs": [],
   "source": [
    "##FeatureEngineering\n",
    "#総床面積を算出する\n",
    "train[\"TotalFlrSF\"]=train[\"1stFlrSF\"]+train[\"2ndFlrSF\"]\n",
    "test[\"TotalFlrSF\"]=test[\"1stFlrSF\"]+test[\"2ndFlrSF\"]\n",
    "#総ベランダ面積を算出する\n",
    "train[\"TotalHousePorchSF\"]=train[\"EnclosedPorch\"]+train[\"OpenPorchSF\"]+train[\"WoodDeckSF\"]+train[\"3SsnPorch\"]+train[\"ScreenPorch\"]\n",
    "test[\"TotalHousePorchSF\"]=test[\"EnclosedPorch\"]+test[\"OpenPorchSF\"]+test[\"WoodDeckSF\"]+test[\"3SsnPorch\"]+test[\"ScreenPorch\"]                               \n",
    "#建設年から築年数への変換\n",
    "train[\"Age\"]=2018-train[\"YearBuilt\"]\n",
    "test[\"Age\"]=2018-test[\"YearBuilt\"]\n",
    "#リフォームされた年から、されてからの期間への変換\n",
    "train[\"YrSinceRemod\"]=2018-train[\"YearRemodAdd\"]\n",
    "test[\"YrSinceRemod\"]=2018-test[\"YearRemodAdd\"]                             \n",
    "#売年から売れてからの年への変換\n",
    "train[\"YrSinceSold\"]= 2018-train[\"YrSold\"]\n",
    "test[\"YrSinceSold\"]= 2018-test[\"YrSold\"]\n",
    "#garageに関しても同じ処理を施す\n",
    "train[\"GarageSinceYrBlt\"]=2018-train[\"GarageYrBlt\"]\n",
    "test[\"GarageSinceYrBlt\"]=2018-test[\"GarageYrBlt\"]\n"
   ]
  },
  {
   "cell_type": "code",
   "execution_count": 104,
   "metadata": {},
   "outputs": [],
   "source": [
    "#階別床面積の項目の削除\n",
    "train=train.drop(\"1stFlrSF\",axis=1)\n",
    "test=test.drop(\"1stFlrSF\",axis=1)\n",
    "train=train.drop(\"2ndFlrSF\",axis=1)\n",
    "test=test.drop(\"2ndFlrSF\",axis=1)\n",
    "#建設年の項目の削除\n",
    "train=train.drop(\"YearBuilt\",axis=1)\n",
    "test=test.drop(\"YearBuilt\",axis=1)\n",
    "#GarageYrBltの項目の削除\n",
    "train=train.drop(\"GarageYrBlt\",axis=1)\n",
    "test=test.drop(\"GarageYrBlt\",axis=1)"
   ]
  },
  {
   "cell_type": "markdown",
   "metadata": {},
   "source": [
    "### object型のデータをmapping"
   ]
  },
  {
   "cell_type": "markdown",
   "metadata": {},
   "source": [
    "解析にかけるためにLabelEncoderにかける"
   ]
  },
  {
   "cell_type": "code",
   "execution_count": 105,
   "metadata": {},
   "outputs": [],
   "source": [
    "#RabelEncoderでmapping\n",
    "from sklearn.preprocessing import LabelEncoder\n",
    "\n",
    "for i in range(train.shape[1]):\n",
    "    if train.iloc[:,i].dtypes == object:\n",
    "        lbl = LabelEncoder()\n",
    "        lbl.fit(list(train.iloc[:,i].values) + list(test.iloc[:,i].values))\n",
    "        train.iloc[:,i] = lbl.transform(list(train.iloc[:,i].values))\n",
    "        test.iloc[:,i] = lbl.transform(list(test.iloc[:,i].values))"
   ]
  },
  {
   "cell_type": "markdown",
   "metadata": {},
   "source": [
    "(参考:https://qiita.com/katsu1110/items/a1c3185fec39e5629bcb)"
   ]
  },
  {
   "cell_type": "markdown",
   "metadata": {},
   "source": [
    "## 各項目の重要度を算出する"
   ]
  },
  {
   "cell_type": "code",
   "execution_count": 106,
   "metadata": {},
   "outputs": [],
   "source": [
    "X_data=train.drop([\"Id\",\"SalePrice\"],axis=1)"
   ]
  },
  {
   "cell_type": "code",
   "execution_count": 107,
   "metadata": {},
   "outputs": [
    {
     "data": {
      "text/plain": [
       "RandomForestRegressor(bootstrap=True, criterion='mse', max_depth=None,\n",
       "           max_features='auto', max_leaf_nodes=None,\n",
       "           min_impurity_decrease=0.0, min_impurity_split=None,\n",
       "           min_samples_leaf=1, min_samples_split=2,\n",
       "           min_weight_fraction_leaf=0.0, n_estimators=100, n_jobs=1,\n",
       "           oob_score=False, random_state=0, verbose=0, warm_start=False)"
      ]
     },
     "execution_count": 107,
     "metadata": {},
     "output_type": "execute_result"
    }
   ],
   "source": [
    "#各項目の重要度を算出する\n",
    "from sklearn.ensemble import RandomForestRegressor\n",
    "rfr=RandomForestRegressor(random_state=0,n_estimators=100)\n",
    "rfr.fit(X_data,y_data)"
   ]
  },
  {
   "cell_type": "code",
   "execution_count": 108,
   "metadata": {
    "scrolled": true
   },
   "outputs": [
    {
     "data": {
      "image/png": "[encoded data removed]",
      "text/plain": [
       "<Figure size 720x864 with 1 Axes>"
      ]
     },
     "metadata": {},
     "output_type": "display_data"
    }
   ],
   "source": [
    "#降順に並べるために、argsort関数を用いてindexを出力する\n",
    "ranking=np.argsort(-rfr.feature_importances_)\n",
    "ax=plt.subplots(figsize=(10,12))\n",
    "\n",
    "#重要度順に棒グラフで可視化\n",
    "sns.barplot(x=rfr.feature_importances_[ranking],y=X_data.columns[ranking])\n",
    "plt.show()"
   ]
  },
  {
   "cell_type": "markdown",
   "metadata": {},
   "source": [
    "(参考:https://qiita.com/katsu1110/items/a1c3185fec39e5629bcb)"
   ]
  },
  {
   "cell_type": "code",
   "execution_count": 109,
   "metadata": {},
   "outputs": [],
   "source": [
    "#重要度の高いcolumnsを上から15個抽出\n",
    "X_pickup=X_data.loc[:,['OverallQual','TotalFlrSF','TotalBsmtSF','GarageCars','GrLivArea','GarageArea','BsmtFinSF1','Age','LotArea','CentralAir','GarageType', 'OverallCond', 'MSZoning', 'LotFrontage']]"
   ]
  },
  {
   "cell_type": "code",
   "execution_count": 110,
   "metadata": {},
   "outputs": [],
   "source": [
    "#important_columnsとy_dataの結合\n",
    "data_2=pd.concat([X_pickup,y_data],axis=1)"
   ]
  },
  {
   "cell_type": "code",
   "execution_count": 111,
   "metadata": {},
   "outputs": [],
   "source": [
    "data_3=pd.concat([X_data,y_data],axis=1)"
   ]
  },
  {
   "cell_type": "markdown",
   "metadata": {},
   "source": [
    "## 相関関係を調べる"
   ]
  },
  {
   "cell_type": "code",
   "execution_count": 112,
   "metadata": {},
   "outputs": [
    {
     "data": {
      "image/png": "[encoded data removed]",
      "text/plain": [
       "<Figure size 864x648 with 14 Axes>"
      ]
     },
     "metadata": {},
     "output_type": "display_data"
    }
   ],
   "source": [
    "#important_columnsとSalePriceとの相関をみる\n",
    "import seaborn as sns\n",
    "fig=plt.figure(figsize=(12,9))\n",
    "for i in np.arange(14):\n",
    "    ax=fig.add_subplot(5,3,i+1)\n",
    "    sns.regplot(x=X_pickup.iloc[:,i],y=y_data)\n",
    "    \n",
    "plt.tight_layout()\n",
    "\n",
    "\n",
    "plt.show()"
   ]
  },
  {
   "cell_type": "code",
   "execution_count": 113,
   "metadata": {
    "scrolled": false
   },
   "outputs": [
    {
     "data": {
      "text/html": [
       "<div>\n",
       "<style scoped>\n",
       "    .dataframe tbody tr th:only-of-type {\n",
       "        vertical-align: middle;\n",
       "    }\n",
       "\n",
       "    .dataframe tbody tr th {\n",
       "        vertical-align: top;\n",
       "    }\n",
       "\n",
       "    .dataframe thead th {\n",
       "        text-align: right;\n",
       "    }\n",
       "</style>\n",
       "<table border=\"1\" class=\"dataframe\">\n",
       "  <thead>\n",
       "    <tr style=\"text-align: right;\">\n",
       "      <th></th>\n",
       "      <th>OverallQual</th>\n",
       "      <th>TotalFlrSF</th>\n",
       "      <th>TotalBsmtSF</th>\n",
       "      <th>GarageCars</th>\n",
       "      <th>GrLivArea</th>\n",
       "      <th>GarageArea</th>\n",
       "      <th>BsmtFinSF1</th>\n",
       "      <th>Age</th>\n",
       "      <th>LotArea</th>\n",
       "      <th>CentralAir</th>\n",
       "      <th>GarageType</th>\n",
       "      <th>OverallCond</th>\n",
       "      <th>MSZoning</th>\n",
       "      <th>LotFrontage</th>\n",
       "      <th>SalePrice</th>\n",
       "    </tr>\n",
       "  </thead>\n",
       "  <tbody>\n",
       "    <tr>\n",
       "      <th>OverallQual</th>\n",
       "      <td>1.000000</td>\n",
       "      <td>0.600758</td>\n",
       "      <td>0.537808</td>\n",
       "      <td>0.600671</td>\n",
       "      <td>0.593007</td>\n",
       "      <td>0.562022</td>\n",
       "      <td>0.239666</td>\n",
       "      <td>-0.572323</td>\n",
       "      <td>0.105806</td>\n",
       "      <td>0.272038</td>\n",
       "      <td>-0.426428</td>\n",
       "      <td>-0.091932</td>\n",
       "      <td>-0.160099</td>\n",
       "      <td>0.236282</td>\n",
       "      <td>0.817184</td>\n",
       "    </tr>\n",
       "    <tr>\n",
       "      <th>TotalFlrSF</th>\n",
       "      <td>0.600758</td>\n",
       "      <td>1.000000</td>\n",
       "      <td>0.461738</td>\n",
       "      <td>0.479932</td>\n",
       "      <td>0.995718</td>\n",
       "      <td>0.479189</td>\n",
       "      <td>0.215913</td>\n",
       "      <td>-0.217805</td>\n",
       "      <td>0.264850</td>\n",
       "      <td>0.099120</td>\n",
       "      <td>-0.250859</td>\n",
       "      <td>-0.082724</td>\n",
       "      <td>-0.084374</td>\n",
       "      <td>0.386336</td>\n",
       "      <td>0.710274</td>\n",
       "    </tr>\n",
       "    <tr>\n",
       "      <th>TotalBsmtSF</th>\n",
       "      <td>0.537808</td>\n",
       "      <td>0.461738</td>\n",
       "      <td>1.000000</td>\n",
       "      <td>0.434585</td>\n",
       "      <td>0.454868</td>\n",
       "      <td>0.486665</td>\n",
       "      <td>0.522396</td>\n",
       "      <td>-0.391452</td>\n",
       "      <td>0.260833</td>\n",
       "      <td>0.207958</td>\n",
       "      <td>-0.394368</td>\n",
       "      <td>-0.171098</td>\n",
       "      <td>-0.087834</td>\n",
       "      <td>0.370780</td>\n",
       "      <td>0.612134</td>\n",
       "    </tr>\n",
       "    <tr>\n",
       "      <th>GarageCars</th>\n",
       "      <td>0.600671</td>\n",
       "      <td>0.479932</td>\n",
       "      <td>0.434585</td>\n",
       "      <td>1.000000</td>\n",
       "      <td>0.467247</td>\n",
       "      <td>0.882475</td>\n",
       "      <td>0.224054</td>\n",
       "      <td>-0.537850</td>\n",
       "      <td>0.154871</td>\n",
       "      <td>0.233726</td>\n",
       "      <td>-0.445903</td>\n",
       "      <td>-0.185758</td>\n",
       "      <td>-0.157042</td>\n",
       "      <td>0.279995</td>\n",
       "      <td>0.680625</td>\n",
       "    </tr>\n",
       "    <tr>\n",
       "      <th>GrLivArea</th>\n",
       "      <td>0.593007</td>\n",
       "      <td>0.995718</td>\n",
       "      <td>0.454868</td>\n",
       "      <td>0.467247</td>\n",
       "      <td>1.000000</td>\n",
       "      <td>0.468997</td>\n",
       "      <td>0.208171</td>\n",
       "      <td>-0.199010</td>\n",
       "      <td>0.263116</td>\n",
       "      <td>0.093666</td>\n",
       "      <td>-0.233985</td>\n",
       "      <td>-0.079686</td>\n",
       "      <td>-0.082615</td>\n",
       "      <td>0.385982</td>\n",
       "      <td>0.700927</td>\n",
       "    </tr>\n",
       "    <tr>\n",
       "      <th>GarageArea</th>\n",
       "      <td>0.562022</td>\n",
       "      <td>0.479189</td>\n",
       "      <td>0.486665</td>\n",
       "      <td>0.882475</td>\n",
       "      <td>0.468997</td>\n",
       "      <td>1.000000</td>\n",
       "      <td>0.296970</td>\n",
       "      <td>-0.478954</td>\n",
       "      <td>0.180403</td>\n",
       "      <td>0.230741</td>\n",
       "      <td>-0.411341</td>\n",
       "      <td>-0.151521</td>\n",
       "      <td>-0.189250</td>\n",
       "      <td>0.332306</td>\n",
       "      <td>0.650888</td>\n",
       "    </tr>\n",
       "    <tr>\n",
       "      <th>BsmtFinSF1</th>\n",
       "      <td>0.239666</td>\n",
       "      <td>0.215913</td>\n",
       "      <td>0.522396</td>\n",
       "      <td>0.224054</td>\n",
       "      <td>0.208171</td>\n",
       "      <td>0.296970</td>\n",
       "      <td>1.000000</td>\n",
       "      <td>-0.249503</td>\n",
       "      <td>0.214103</td>\n",
       "      <td>0.166468</td>\n",
       "      <td>-0.277685</td>\n",
       "      <td>-0.046231</td>\n",
       "      <td>-0.049128</td>\n",
       "      <td>0.227212</td>\n",
       "      <td>0.372023</td>\n",
       "    </tr>\n",
       "    <tr>\n",
       "      <th>Age</th>\n",
       "      <td>-0.572323</td>\n",
       "      <td>-0.217805</td>\n",
       "      <td>-0.391452</td>\n",
       "      <td>-0.537850</td>\n",
       "      <td>-0.199010</td>\n",
       "      <td>-0.478954</td>\n",
       "      <td>-0.249503</td>\n",
       "      <td>1.000000</td>\n",
       "      <td>-0.014228</td>\n",
       "      <td>-0.381831</td>\n",
       "      <td>0.540352</td>\n",
       "      <td>0.375983</td>\n",
       "      <td>0.308908</td>\n",
       "      <td>-0.127706</td>\n",
       "      <td>-0.586570</td>\n",
       "    </tr>\n",
       "    <tr>\n",
       "      <th>LotArea</th>\n",
       "      <td>0.105806</td>\n",
       "      <td>0.264850</td>\n",
       "      <td>0.260833</td>\n",
       "      <td>0.154871</td>\n",
       "      <td>0.263116</td>\n",
       "      <td>0.180403</td>\n",
       "      <td>0.214103</td>\n",
       "      <td>-0.014228</td>\n",
       "      <td>1.000000</td>\n",
       "      <td>0.049755</td>\n",
       "      <td>-0.150162</td>\n",
       "      <td>-0.005636</td>\n",
       "      <td>-0.034452</td>\n",
       "      <td>0.336997</td>\n",
       "      <td>0.257320</td>\n",
       "    </tr>\n",
       "    <tr>\n",
       "      <th>CentralAir</th>\n",
       "      <td>0.272038</td>\n",
       "      <td>0.099120</td>\n",
       "      <td>0.207958</td>\n",
       "      <td>0.233726</td>\n",
       "      <td>0.093666</td>\n",
       "      <td>0.230741</td>\n",
       "      <td>0.166468</td>\n",
       "      <td>-0.381831</td>\n",
       "      <td>0.049755</td>\n",
       "      <td>1.000000</td>\n",
       "      <td>-0.321686</td>\n",
       "      <td>0.118969</td>\n",
       "      <td>-0.049523</td>\n",
       "      <td>0.081077</td>\n",
       "      <td>0.351600</td>\n",
       "    </tr>\n",
       "    <tr>\n",
       "      <th>GarageType</th>\n",
       "      <td>-0.426428</td>\n",
       "      <td>-0.250859</td>\n",
       "      <td>-0.394368</td>\n",
       "      <td>-0.445903</td>\n",
       "      <td>-0.233985</td>\n",
       "      <td>-0.411341</td>\n",
       "      <td>-0.277685</td>\n",
       "      <td>0.540352</td>\n",
       "      <td>-0.150162</td>\n",
       "      <td>-0.321686</td>\n",
       "      <td>1.000000</td>\n",
       "      <td>0.142760</td>\n",
       "      <td>0.141142</td>\n",
       "      <td>-0.271967</td>\n",
       "      <td>-0.503130</td>\n",
       "    </tr>\n",
       "    <tr>\n",
       "      <th>OverallCond</th>\n",
       "      <td>-0.091932</td>\n",
       "      <td>-0.082724</td>\n",
       "      <td>-0.171098</td>\n",
       "      <td>-0.185758</td>\n",
       "      <td>-0.079686</td>\n",
       "      <td>-0.151521</td>\n",
       "      <td>-0.046231</td>\n",
       "      <td>0.375983</td>\n",
       "      <td>-0.005636</td>\n",
       "      <td>0.118969</td>\n",
       "      <td>0.142760</td>\n",
       "      <td>1.000000</td>\n",
       "      <td>0.186951</td>\n",
       "      <td>-0.047448</td>\n",
       "      <td>-0.036868</td>\n",
       "    </tr>\n",
       "    <tr>\n",
       "      <th>MSZoning</th>\n",
       "      <td>-0.160099</td>\n",
       "      <td>-0.084374</td>\n",
       "      <td>-0.087834</td>\n",
       "      <td>-0.157042</td>\n",
       "      <td>-0.082615</td>\n",
       "      <td>-0.189250</td>\n",
       "      <td>-0.049128</td>\n",
       "      <td>0.308908</td>\n",
       "      <td>-0.034452</td>\n",
       "      <td>-0.049523</td>\n",
       "      <td>0.141142</td>\n",
       "      <td>0.186951</td>\n",
       "      <td>1.000000</td>\n",
       "      <td>-0.108397</td>\n",
       "      <td>-0.188860</td>\n",
       "    </tr>\n",
       "    <tr>\n",
       "      <th>LotFrontage</th>\n",
       "      <td>0.236282</td>\n",
       "      <td>0.386336</td>\n",
       "      <td>0.370780</td>\n",
       "      <td>0.279995</td>\n",
       "      <td>0.385982</td>\n",
       "      <td>0.332306</td>\n",
       "      <td>0.227212</td>\n",
       "      <td>-0.127706</td>\n",
       "      <td>0.336997</td>\n",
       "      <td>0.081077</td>\n",
       "      <td>-0.271967</td>\n",
       "      <td>-0.047448</td>\n",
       "      <td>-0.108397</td>\n",
       "      <td>1.000000</td>\n",
       "      <td>0.352747</td>\n",
       "    </tr>\n",
       "    <tr>\n",
       "      <th>SalePrice</th>\n",
       "      <td>0.817184</td>\n",
       "      <td>0.710274</td>\n",
       "      <td>0.612134</td>\n",
       "      <td>0.680625</td>\n",
       "      <td>0.700927</td>\n",
       "      <td>0.650888</td>\n",
       "      <td>0.372023</td>\n",
       "      <td>-0.586570</td>\n",
       "      <td>0.257320</td>\n",
       "      <td>0.351600</td>\n",
       "      <td>-0.503130</td>\n",
       "      <td>-0.036868</td>\n",
       "      <td>-0.188860</td>\n",
       "      <td>0.352747</td>\n",
       "      <td>1.000000</td>\n",
       "    </tr>\n",
       "  </tbody>\n",
       "</table>\n",
       "</div>"
      ],
      "text/plain": [
       "             OverallQual  TotalFlrSF  TotalBsmtSF  GarageCars  GrLivArea  \\\n",
       "OverallQual     1.000000    0.600758     0.537808    0.600671   0.593007   \n",
       "TotalFlrSF      0.600758    1.000000     0.461738    0.479932   0.995718   \n",
       "TotalBsmtSF     0.537808    0.461738     1.000000    0.434585   0.454868   \n",
       "GarageCars      0.600671    0.479932     0.434585    1.000000   0.467247   \n",
       "GrLivArea       0.593007    0.995718     0.454868    0.467247   1.000000   \n",
       "GarageArea      0.562022    0.479189     0.486665    0.882475   0.468997   \n",
       "BsmtFinSF1      0.239666    0.215913     0.522396    0.224054   0.208171   \n",
       "Age            -0.572323   -0.217805    -0.391452   -0.537850  -0.199010   \n",
       "LotArea         0.105806    0.264850     0.260833    0.154871   0.263116   \n",
       "CentralAir      0.272038    0.099120     0.207958    0.233726   0.093666   \n",
       "GarageType     -0.426428   -0.250859    -0.394368   -0.445903  -0.233985   \n",
       "OverallCond    -0.091932   -0.082724    -0.171098   -0.185758  -0.079686   \n",
       "MSZoning       -0.160099   -0.084374    -0.087834   -0.157042  -0.082615   \n",
       "LotFrontage     0.236282    0.386336     0.370780    0.279995   0.385982   \n",
       "SalePrice       0.817184    0.710274     0.612134    0.680625   0.700927   \n",
       "\n",
       "             GarageArea  BsmtFinSF1       Age   LotArea  CentralAir  \\\n",
       "OverallQual    0.562022    0.239666 -0.572323  0.105806    0.272038   \n",
       "TotalFlrSF     0.479189    0.215913 -0.217805  0.264850    0.099120   \n",
       "TotalBsmtSF    0.486665    0.522396 -0.391452  0.260833    0.207958   \n",
       "GarageCars     0.882475    0.224054 -0.537850  0.154871    0.233726   \n",
       "GrLivArea      0.468997    0.208171 -0.199010  0.263116    0.093666   \n",
       "GarageArea     1.000000    0.296970 -0.478954  0.180403    0.230741   \n",
       "BsmtFinSF1     0.296970    1.000000 -0.249503  0.214103    0.166468   \n",
       "Age           -0.478954   -0.249503  1.000000 -0.014228   -0.381831   \n",
       "LotArea        0.180403    0.214103 -0.014228  1.000000    0.049755   \n",
       "CentralAir     0.230741    0.166468 -0.381831  0.049755    1.000000   \n",
       "GarageType    -0.411341   -0.277685  0.540352 -0.150162   -0.321686   \n",
       "OverallCond   -0.151521   -0.046231  0.375983 -0.005636    0.118969   \n",
       "MSZoning      -0.189250   -0.049128  0.308908 -0.034452   -0.049523   \n",
       "LotFrontage    0.332306    0.227212 -0.127706  0.336997    0.081077   \n",
       "SalePrice      0.650888    0.372023 -0.586570  0.257320    0.351600   \n",
       "\n",
       "             GarageType  OverallCond  MSZoning  LotFrontage  SalePrice  \n",
       "OverallQual   -0.426428    -0.091932 -0.160099     0.236282   0.817184  \n",
       "TotalFlrSF    -0.250859    -0.082724 -0.084374     0.386336   0.710274  \n",
       "TotalBsmtSF   -0.394368    -0.171098 -0.087834     0.370780   0.612134  \n",
       "GarageCars    -0.445903    -0.185758 -0.157042     0.279995   0.680625  \n",
       "GrLivArea     -0.233985    -0.079686 -0.082615     0.385982   0.700927  \n",
       "GarageArea    -0.411341    -0.151521 -0.189250     0.332306   0.650888  \n",
       "BsmtFinSF1    -0.277685    -0.046231 -0.049128     0.227212   0.372023  \n",
       "Age            0.540352     0.375983  0.308908    -0.127706  -0.586570  \n",
       "LotArea       -0.150162    -0.005636 -0.034452     0.336997   0.257320  \n",
       "CentralAir    -0.321686     0.118969 -0.049523     0.081077   0.351600  \n",
       "GarageType     1.000000     0.142760  0.141142    -0.271967  -0.503130  \n",
       "OverallCond    0.142760     1.000000  0.186951    -0.047448  -0.036868  \n",
       "MSZoning       0.141142     0.186951  1.000000    -0.108397  -0.188860  \n",
       "LotFrontage   -0.271967    -0.047448 -0.108397     1.000000   0.352747  \n",
       "SalePrice     -0.503130    -0.036868 -0.188860     0.352747   1.000000  "
      ]
     },
     "execution_count": 113,
     "metadata": {},
     "output_type": "execute_result"
    }
   ],
   "source": [
    "#相関係数も確認\n",
    "data_2.corr()"
   ]
  },
  {
   "cell_type": "markdown",
   "metadata": {},
   "source": [
    "## 外れ値の削除\n"
   ]
  },
  {
   "cell_type": "markdown",
   "metadata": {},
   "source": [
    "上の相関関係のグラフを見てデータ分析に影響がありそうな外れ値を削除する"
   ]
  },
  {
   "cell_type": "code",
   "execution_count": 114,
   "metadata": {},
   "outputs": [],
   "source": [
    "# data_2=data_2.drop(data_2[(data_2[\"TotalFlrSF\"]>4000)&(data_2[\"SalePrice\"]<13)].index)\n",
    "# data_2=data_2.drop(data_2[(data_2[\"TotalBsmtSF\"]>5000)&(data_2[\"SalePrice\"]<14)].index)\n",
    "# data_2=data_2.drop(data_2[(data_2[\"GrLivArea\"]>4000)&(data_2[\"SalePrice\"]<13)].index)\n",
    "# data_2=data_2.drop(data_2[(data_2[\"GarageArea\"]>1200)&(data_2[\"SalePrice\"]<12)].index)                          \n",
    "# data_2=data_2.drop(data_2[(data_2[\"Age\"]>120)&(data_2[\"SalePrice\"]>12.5)].index)"
   ]
  },
  {
   "cell_type": "code",
   "execution_count": 115,
   "metadata": {},
   "outputs": [
    {
     "name": "stderr",
     "output_type": "stream",
     "text": [
      "/Users/matsunaganaoki/.pyenv/versions/anaconda3-5.2.0/lib/python3.6/site-packages/ipykernel_launcher.py:2: UserWarning: Boolean Series key will be reindexed to match DataFrame index.\n",
      "  \n",
      "/Users/matsunaganaoki/.pyenv/versions/anaconda3-5.2.0/lib/python3.6/site-packages/ipykernel_launcher.py:3: UserWarning: Boolean Series key will be reindexed to match DataFrame index.\n",
      "  This is separate from the ipykernel package so we can avoid doing imports until\n",
      "/Users/matsunaganaoki/.pyenv/versions/anaconda3-5.2.0/lib/python3.6/site-packages/ipykernel_launcher.py:4: UserWarning: Boolean Series key will be reindexed to match DataFrame index.\n",
      "  after removing the cwd from sys.path.\n",
      "/Users/matsunaganaoki/.pyenv/versions/anaconda3-5.2.0/lib/python3.6/site-packages/ipykernel_launcher.py:5: UserWarning: Boolean Series key will be reindexed to match DataFrame index.\n",
      "  \"\"\"\n"
     ]
    }
   ],
   "source": [
    "X_data=X_data.drop(X_data[(data_3[\"TotalFlrSF\"]>4000)&(data_3[\"SalePrice\"]<13)].index)\n",
    "X_data=X_data.drop(X_data[(data_3[\"TotalBsmtSF\"]>4000)&(data_3[\"SalePrice\"]<13)].index)\n",
    "X_data=X_data.drop(X_data[(data_3[\"GrLivArea\"]>4000)&(data_3[\"SalePrice\"]<13)].index)\n",
    "X_data=X_data.drop(X_data[(data_3[\"GarageArea\"]>4000)&(data_3[\"SalePrice\"]<13)].index)\n",
    "X_data=X_data.drop(X_data[(data_3[\"Age\"]>4000)&(data_3[\"SalePrice\"]<13)].index)"
   ]
  },
  {
   "cell_type": "markdown",
   "metadata": {},
   "source": [
    "多重共線性を加味して、重要度の高いものでも、\n",
    "\"GrLivArea\"(\"TotalFlrSF\"との相関が0.99以上)と、\n",
    "\"GarageArea\"(\"GarageCars\"との相関が0.88)\n",
    "を除いた上で、\"SalePrice\"との相関関係の大きいものを説明変数として抽出する。\n"
   ]
  },
  {
   "cell_type": "code",
   "execution_count": 116,
   "metadata": {},
   "outputs": [],
   "source": [
    "# #特に重要な項目を抽出\n",
    "# X_1_pickup=data_2.loc[:,[\"OverallQual\",\"TotalFlrSF\",\"TotalBsmtSF\",\"GarageCars\",\"Age\"]]\n",
    "# y_1_data=data_2.loc[:,[\"SalePrice\"]]"
   ]
  },
  {
   "cell_type": "code",
   "execution_count": 117,
   "metadata": {},
   "outputs": [],
   "source": [
    "X_2_pickup=data_3.drop([\"SalePrice\"],axis=1)\n",
    "y_2_pickup=data_3.loc[:,[\"SalePrice\"]]"
   ]
  },
  {
   "cell_type": "code",
   "execution_count": 118,
   "metadata": {},
   "outputs": [],
   "source": [
    "from sklearn.model_selection import train_test_split\n",
    "X_train,X_test,y_train,y_test=train_test_split(X_2_pickup,y_2_pickup,test_size=0.3,random_state=0)"
   ]
  },
  {
   "cell_type": "code",
   "execution_count": 119,
   "metadata": {},
   "outputs": [],
   "source": [
    "# from sklearn.model_selection import train_test_split\n",
    "# X_train,X_test,y_train,y_test=train_test_split(,y_data,test_size=0.3,random_state=0)"
   ]
  },
  {
   "cell_type": "markdown",
   "metadata": {},
   "source": [
    "## データをアルゴリズムにかける"
   ]
  },
  {
   "cell_type": "markdown",
   "metadata": {},
   "source": [
    "### 1)randomforestにかける"
   ]
  },
  {
   "cell_type": "markdown",
   "metadata": {},
   "source": [
    "GridSearchを用いて最適なパラメータを求め、RandomForestRegressorで回帰分析を行う"
   ]
  },
  {
   "cell_type": "code",
   "execution_count": 120,
   "metadata": {},
   "outputs": [],
   "source": [
    "from sklearn.model_selection import GridSearchCV\n",
    "from sklearn.ensemble import RandomForestRegressor\n",
    "rf=RandomForestRegressor()\n",
    "param_grid={\"n_estimators\":[250,300,350],\"max_depth\":[5,10,15]}\n",
    "rf_gs=GridSearchCV(rf,param_grid)"
   ]
  },
  {
   "cell_type": "code",
   "execution_count": 121,
   "metadata": {},
   "outputs": [
    {
     "data": {
      "text/plain": [
       "GridSearchCV(cv=None, error_score='raise',\n",
       "       estimator=RandomForestRegressor(bootstrap=True, criterion='mse', max_depth=None,\n",
       "           max_features='auto', max_leaf_nodes=None,\n",
       "           min_impurity_decrease=0.0, min_impurity_split=None,\n",
       "           min_samples_leaf=1, min_samples_split=2,\n",
       "           min_weight_fraction_leaf=0.0, n_estimators=10, n_jobs=1,\n",
       "           oob_score=False, random_state=None, verbose=0, warm_start=False),\n",
       "       fit_params=None, iid=True, n_jobs=1,\n",
       "       param_grid={'n_estimators': [250, 300, 350], 'max_depth': [5, 10, 15]},\n",
       "       pre_dispatch='2*n_jobs', refit=True, return_train_score='warn',\n",
       "       scoring=None, verbose=0)"
      ]
     },
     "execution_count": 121,
     "metadata": {},
     "output_type": "execute_result"
    }
   ],
   "source": [
    "rf_gs.fit(X_train,y_train.values.ravel())"
   ]
  },
  {
   "cell_type": "code",
   "execution_count": 122,
   "metadata": {},
   "outputs": [
    {
     "name": "stdout",
     "output_type": "stream",
     "text": [
      "adjusted R^2\n",
      "train score: 0.976907\n",
      "test score : 0.889235\n"
     ]
    }
   ],
   "source": [
    "def adjusted(score, n_sample, n_features):\n",
    "    adjusted_score = 1 - (1 - score) * ((n_sample - 1) / (n_sample - n_features - 1))\n",
    "    return adjusted_score\n",
    "print('adjusted R^2')\n",
    "print('train score: %3f' % adjusted(rf_gs.score(X_train, y_train), len(y_train), 2))\n",
    "print('test score : %3f' % adjusted(rf_gs.score(X_test, y_test), len(y_test), 2))"
   ]
  },
  {
   "cell_type": "markdown",
   "metadata": {},
   "source": [
    "かなり過学習しているため、今回は分析のアルゴリズムからは除外する"
   ]
  },
  {
   "cell_type": "markdown",
   "metadata": {},
   "source": [
    "## 2) XGboostにかける"
   ]
  },
  {
   "cell_type": "markdown",
   "metadata": {},
   "source": [
    "こちらもGridSearchで最適なパラメータを求める"
   ]
  },
  {
   "cell_type": "code",
   "execution_count": 123,
   "metadata": {},
   "outputs": [
    {
     "data": {
      "text/plain": [
       "GridSearchCV(cv=None, error_score='raise',\n",
       "       estimator=XGBRegressor(base_score=0.5, booster='gbtree', colsample_bylevel=1,\n",
       "       colsample_bytree=1, gamma=0, learning_rate=0.1, max_delta_step=0,\n",
       "       max_depth=3, min_child_weight=1, missing=None, n_estimators=100,\n",
       "       n_jobs=1, nthread=None, objective='reg:linear', random_state=0,\n",
       "       reg_alpha=0, reg_lambda=1, scale_pos_weight=1, seed=None,\n",
       "       silent=True, subsample=1),\n",
       "       fit_params=None, iid=True, n_jobs=1,\n",
       "       param_grid={'max_depth': [1, 2, 3], 'n_estimators': [80, 90, 100]},\n",
       "       pre_dispatch='2*n_jobs', refit=True, return_train_score='warn',\n",
       "       scoring=None, verbose=0)"
      ]
     },
     "execution_count": 123,
     "metadata": {},
     "output_type": "execute_result"
    }
   ],
   "source": [
    "import xgboost as xgb\n",
    "from sklearn.model_selection import GridSearchCV\n",
    "\n",
    "xgb_model = xgb.XGBRegressor()\n",
    "xgb_gs = GridSearchCV(xgb_model,\n",
    "                   {'max_depth': [1,2,3],\n",
    "                    'n_estimators': [80,90,100]})\n",
    "\n",
    "xgb_gs.fit(X_train, y_train)"
   ]
  },
  {
   "cell_type": "code",
   "execution_count": 124,
   "metadata": {},
   "outputs": [
    {
     "name": "stdout",
     "output_type": "stream",
     "text": [
      "adjusted R^2\n",
      "train score: 0.958838\n",
      "test score : 0.893983\n"
     ]
    }
   ],
   "source": [
    "#調整済み決定係数を算出する\n",
    "print('adjusted R^2')\n",
    "print('train score: %3f' % adjusted(xgb_gs.score(X_train, y_train), len(y_train), 2))\n",
    "print('test score : %3f' % adjusted(xgb_gs.score(X_test, y_test), len(y_test), 2))"
   ]
  },
  {
   "cell_type": "markdown",
   "metadata": {},
   "source": [
    "## 3)重回帰分析にかける"
   ]
  },
  {
   "cell_type": "code",
   "execution_count": 125,
   "metadata": {},
   "outputs": [],
   "source": [
    "# from sklearn.linear_model import LinearRegression\n",
    "# lr=LinearRegression()\n",
    "# lr.fit(X_train,y_train)"
   ]
  },
  {
   "cell_type": "code",
   "execution_count": 126,
   "metadata": {},
   "outputs": [],
   "source": [
    "# print('adjusted R^2')\n",
    "# print('train score: %3f' % adjusted(lr.score(X_train, y_train), len(y_train), 2))\n",
    "# print('test score : %3f' % adjusted(lr.score(X_test, y_test), len(y_test), 2))"
   ]
  },
  {
   "cell_type": "markdown",
   "metadata": {},
   "source": [
    "# 提出用ファイルに変換する "
   ]
  },
  {
   "cell_type": "markdown",
   "metadata": {},
   "source": [
    "testデータで精度が出ている重回帰分析とXGBoostでスタッキングをし、提出用ファイルの予測値を出力する"
   ]
  },
  {
   "cell_type": "code",
   "execution_count": 127,
   "metadata": {},
   "outputs": [],
   "source": [
    "ans_data=test.drop([\"Id\"],axis=1)\n",
    "y_pred=np.exp(rf_gs.predict(ans_data).reshape(-1))\n",
    "y_2_pred=np.exp(xgb_gs.predict(ans_data).reshape(-1))\n",
    "y_stack=((y_pred)+(y_2_pred))*(1/2)\n",
    "\n",
    "#提出用のファイルに変換\n",
    "submit_file=pd.DataFrame({\n",
    "    \"id\":test[\"Id\"],\n",
    "    \"SalePrice\": y_stack,\n",
    "    })\n",
    "submit_file.to_csv('submit.csv',index=False)"
   ]
  }
 ],
 "metadata": {
  "kernelspec": {
   "display_name": "Python 3",
   "language": "python",
   "name": "python3"
  },
  "language_info": {
   "codemirror_mode": {
    "name": "ipython",
    "version": 3
   },
   "file_extension": ".py",
   "mimetype": "text/x-python",
   "name": "python",
   "nbconvert_exporter": "python",
   "pygments_lexer": "ipython3",
   "version": "3.6.5"
  }
 },
 "nbformat": 4,
 "nbformat_minor": 2
}
